{
 "cells": [
  {
   "cell_type": "code",
   "execution_count": 413,
   "metadata": {},
   "outputs": [],
   "source": [
    "import numpy as np"
   ]
  },
  {
   "cell_type": "code",
   "execution_count": 414,
   "metadata": {},
   "outputs": [],
   "source": [
    "import pandas as pd\n"
   ]
  },
  {
   "cell_type": "code",
   "execution_count": 415,
   "metadata": {},
   "outputs": [],
   "source": [
    "from warnings import filterwarnings\n"
   ]
  },
  {
   "cell_type": "code",
   "execution_count": 416,
   "metadata": {},
   "outputs": [],
   "source": [
    "filterwarnings(\"ignore\")\n"
   ]
  },
  {
   "cell_type": "code",
   "execution_count": 417,
   "metadata": {},
   "outputs": [],
   "source": [
    "df = pd.read_csv('medicine.csv')\n"
   ]
  },
  {
   "cell_type": "code",
   "execution_count": 418,
   "metadata": {},
   "outputs": [
    {
     "data": {
      "text/html": [
       "<div>\n",
       "<style scoped>\n",
       "    .dataframe tbody tr th:only-of-type {\n",
       "        vertical-align: middle;\n",
       "    }\n",
       "\n",
       "    .dataframe tbody tr th {\n",
       "        vertical-align: top;\n",
       "    }\n",
       "\n",
       "    .dataframe thead th {\n",
       "        text-align: right;\n",
       "    }\n",
       "</style>\n",
       "<table border=\"1\" class=\"dataframe\">\n",
       "  <thead>\n",
       "    <tr style=\"text-align: right;\">\n",
       "      <th></th>\n",
       "      <th>index</th>\n",
       "      <th>Drug_Name</th>\n",
       "      <th>Reason</th>\n",
       "      <th>Description</th>\n",
       "      <th>Side_Effects</th>\n",
       "    </tr>\n",
       "  </thead>\n",
       "  <tbody>\n",
       "    <tr>\n",
       "      <th>0</th>\n",
       "      <td>1</td>\n",
       "      <td>A CN Gel(Topical) 20gmA CN Soap 75gm</td>\n",
       "      <td>Acne</td>\n",
       "      <td>Mild to moderate acne (spots)</td>\n",
       "      <td>Headache, Rash, Nausea</td>\n",
       "    </tr>\n",
       "    <tr>\n",
       "      <th>1</th>\n",
       "      <td>2</td>\n",
       "      <td>A Ret 0.05% Gel 20gmA Ret 0.1% Gel 20gmA Ret 0...</td>\n",
       "      <td>Acne</td>\n",
       "      <td>A RET 0.025% is a prescription medicine that i...</td>\n",
       "      <td>Headache, Drowsiness, Dizziness</td>\n",
       "    </tr>\n",
       "    <tr>\n",
       "      <th>2</th>\n",
       "      <td>3</td>\n",
       "      <td>ACGEL CL NANO Gel 15gm</td>\n",
       "      <td>Acne</td>\n",
       "      <td>It is used to treat acne vulgaris in people 12...</td>\n",
       "      <td>Diarrhea, Stomach pain, Fatigue</td>\n",
       "    </tr>\n",
       "    <tr>\n",
       "      <th>3</th>\n",
       "      <td>4</td>\n",
       "      <td>ACGEL NANO Gel 15gm</td>\n",
       "      <td>Acne</td>\n",
       "      <td>It is used to treat acne vulgaris in people 12...</td>\n",
       "      <td>Stomach pain, Fatigue, Nausea</td>\n",
       "    </tr>\n",
       "    <tr>\n",
       "      <th>4</th>\n",
       "      <td>5</td>\n",
       "      <td>Acleen 1% Lotion 25ml</td>\n",
       "      <td>Acne</td>\n",
       "      <td>treat the most severe form of acne (nodular ac...</td>\n",
       "      <td>Dry mouth, Stomach pain, Dizziness</td>\n",
       "    </tr>\n",
       "  </tbody>\n",
       "</table>\n",
       "</div>"
      ],
      "text/plain": [
       "   index                                          Drug_Name Reason  \\\n",
       "0      1               A CN Gel(Topical) 20gmA CN Soap 75gm   Acne   \n",
       "1      2  A Ret 0.05% Gel 20gmA Ret 0.1% Gel 20gmA Ret 0...   Acne   \n",
       "2      3                             ACGEL CL NANO Gel 15gm   Acne   \n",
       "3      4                                ACGEL NANO Gel 15gm   Acne   \n",
       "4      5                              Acleen 1% Lotion 25ml   Acne   \n",
       "\n",
       "                                         Description  \\\n",
       "0                      Mild to moderate acne (spots)   \n",
       "1  A RET 0.025% is a prescription medicine that i...   \n",
       "2  It is used to treat acne vulgaris in people 12...   \n",
       "3  It is used to treat acne vulgaris in people 12...   \n",
       "4  treat the most severe form of acne (nodular ac...   \n",
       "\n",
       "                         Side_Effects  \n",
       "0              Headache, Rash, Nausea  \n",
       "1     Headache, Drowsiness, Dizziness  \n",
       "2     Diarrhea, Stomach pain, Fatigue  \n",
       "3       Stomach pain, Fatigue, Nausea  \n",
       "4  Dry mouth, Stomach pain, Dizziness  "
      ]
     },
     "execution_count": 418,
     "metadata": {},
     "output_type": "execute_result"
    }
   ],
   "source": [
    "df.head()\n"
   ]
  },
  {
   "cell_type": "code",
   "execution_count": 419,
   "metadata": {},
   "outputs": [
    {
     "data": {
      "text/plain": [
       "(9720, 5)"
      ]
     },
     "execution_count": 419,
     "metadata": {},
     "output_type": "execute_result"
    }
   ],
   "source": [
    "df.shape\n"
   ]
  },
  {
   "cell_type": "code",
   "execution_count": 420,
   "metadata": {},
   "outputs": [
    {
     "data": {
      "text/plain": [
       "index           0\n",
       "Drug_Name       0\n",
       "Reason          0\n",
       "Description     0\n",
       "Side_Effects    0\n",
       "dtype: int64"
      ]
     },
     "execution_count": 420,
     "metadata": {},
     "output_type": "execute_result"
    }
   ],
   "source": [
    "df.isnull().sum()\n"
   ]
  },
  {
   "cell_type": "code",
   "execution_count": 421,
   "metadata": {},
   "outputs": [],
   "source": [
    "df.dropna(inplace=True)\n"
   ]
  },
  {
   "cell_type": "code",
   "execution_count": 422,
   "metadata": {},
   "outputs": [
    {
     "data": {
      "text/plain": [
       "np.int64(0)"
      ]
     },
     "execution_count": 422,
     "metadata": {},
     "output_type": "execute_result"
    }
   ],
   "source": [
    "df.duplicated().sum()\n"
   ]
  },
  {
   "cell_type": "code",
   "execution_count": 423,
   "metadata": {},
   "outputs": [
    {
     "data": {
      "text/plain": [
       "0                           Mild to moderate acne (spots)\n",
       "1       A RET 0.025% is a prescription medicine that i...\n",
       "2       It is used to treat acne vulgaris in people 12...\n",
       "3       It is used to treat acne vulgaris in people 12...\n",
       "4       treat the most severe form of acne (nodular ac...\n",
       "                              ...                        \n",
       "9715                              used for treating warts\n",
       "9716                        used to soften the skin cells\n",
       "9717                                       used for scars\n",
       "9718                                      used for wounds\n",
       "9719    used to treat and remove raised warts (usually...\n",
       "Name: Description, Length: 9720, dtype: object"
      ]
     },
     "execution_count": 423,
     "metadata": {},
     "output_type": "execute_result"
    }
   ],
   "source": [
    "df['Description']\n"
   ]
  },
  {
   "cell_type": "code",
   "execution_count": 424,
   "metadata": {},
   "outputs": [
    {
     "data": {
      "text/plain": [
       "0                   Headache, Rash, Nausea\n",
       "1          Headache, Drowsiness, Dizziness\n",
       "2          Diarrhea, Stomach pain, Fatigue\n",
       "3            Stomach pain, Fatigue, Nausea\n",
       "4       Dry mouth, Stomach pain, Dizziness\n",
       "                       ...                \n",
       "9715        Stomach pain, Diarrhea, Nausea\n",
       "9716           Nausea, Dizziness, Vomiting\n",
       "9717      Dizziness, Drowsiness, Dry mouth\n",
       "9718       Diarrhea, Drowsiness, Dry mouth\n",
       "9719          Diarrhea, Nausea, Drowsiness\n",
       "Name: Side_Effects, Length: 9720, dtype: object"
      ]
     },
     "execution_count": 424,
     "metadata": {},
     "output_type": "execute_result"
    }
   ],
   "source": [
    "df['Side_Effects']"
   ]
  },
  {
   "cell_type": "code",
   "execution_count": 425,
   "metadata": {},
   "outputs": [
    {
     "data": {
      "text/plain": [
       "0                     [Mild, to, moderate, acne, (spots)]\n",
       "1       [A, RET, 0.025%, is, a, prescription, medicine...\n",
       "2       [It, is, used, to, treat, acne, vulgaris, in, ...\n",
       "3       [It, is, used, to, treat, acne, vulgaris, in, ...\n",
       "4       [treat, the, most, severe, form, of, acne, (no...\n",
       "                              ...                        \n",
       "9715                         [used, for, treating, warts]\n",
       "9716                 [used, to, soften, the, skin, cells]\n",
       "9717                                   [used, for, scars]\n",
       "9718                                  [used, for, wounds]\n",
       "9719    [used, to, treat, and, remove, raised, warts, ...\n",
       "Name: Description, Length: 9720, dtype: object"
      ]
     },
     "execution_count": 425,
     "metadata": {},
     "output_type": "execute_result"
    }
   ],
   "source": [
    "df['Description'].apply(lambda x:x.split())\n"
   ]
  },
  {
   "cell_type": "code",
   "execution_count": 426,
   "metadata": {},
   "outputs": [],
   "source": [
    "df['Reason'] = df['Reason'].apply(lambda x:x.split())\n"
   ]
  },
  {
   "cell_type": "code",
   "execution_count": 427,
   "metadata": {},
   "outputs": [],
   "source": [
    "df['Description'] = df['Description'].apply(lambda x:x.split())\n"
   ]
  },
  {
   "cell_type": "code",
   "execution_count": 428,
   "metadata": {},
   "outputs": [],
   "source": [
    "df['Description'] = df['Description'].apply(lambda x:[i.replace(\" \",\"\") for i in x])\n"
   ]
  },
  {
   "cell_type": "code",
   "execution_count": 429,
   "metadata": {},
   "outputs": [],
   "source": [
    "df['tags'] = df['Description'] + df['Reason']\n"
   ]
  },
  {
   "cell_type": "code",
   "execution_count": 430,
   "metadata": {},
   "outputs": [],
   "source": [
    "new_df = df[['index','Drug_Name','tags']]\n"
   ]
  },
  {
   "cell_type": "code",
   "execution_count": 431,
   "metadata": {},
   "outputs": [
    {
     "data": {
      "text/html": [
       "<div>\n",
       "<style scoped>\n",
       "    .dataframe tbody tr th:only-of-type {\n",
       "        vertical-align: middle;\n",
       "    }\n",
       "\n",
       "    .dataframe tbody tr th {\n",
       "        vertical-align: top;\n",
       "    }\n",
       "\n",
       "    .dataframe thead th {\n",
       "        text-align: right;\n",
       "    }\n",
       "</style>\n",
       "<table border=\"1\" class=\"dataframe\">\n",
       "  <thead>\n",
       "    <tr style=\"text-align: right;\">\n",
       "      <th></th>\n",
       "      <th>index</th>\n",
       "      <th>Drug_Name</th>\n",
       "      <th>tags</th>\n",
       "    </tr>\n",
       "  </thead>\n",
       "  <tbody>\n",
       "    <tr>\n",
       "      <th>0</th>\n",
       "      <td>1</td>\n",
       "      <td>A CN Gel(Topical) 20gmA CN Soap 75gm</td>\n",
       "      <td>[Mild, to, moderate, acne, (spots), Acne]</td>\n",
       "    </tr>\n",
       "    <tr>\n",
       "      <th>1</th>\n",
       "      <td>2</td>\n",
       "      <td>A Ret 0.05% Gel 20gmA Ret 0.1% Gel 20gmA Ret 0...</td>\n",
       "      <td>[A, RET, 0.025%, is, a, prescription, medicine...</td>\n",
       "    </tr>\n",
       "    <tr>\n",
       "      <th>2</th>\n",
       "      <td>3</td>\n",
       "      <td>ACGEL CL NANO Gel 15gm</td>\n",
       "      <td>[It, is, used, to, treat, acne, vulgaris, in, ...</td>\n",
       "    </tr>\n",
       "    <tr>\n",
       "      <th>3</th>\n",
       "      <td>4</td>\n",
       "      <td>ACGEL NANO Gel 15gm</td>\n",
       "      <td>[It, is, used, to, treat, acne, vulgaris, in, ...</td>\n",
       "    </tr>\n",
       "    <tr>\n",
       "      <th>4</th>\n",
       "      <td>5</td>\n",
       "      <td>Acleen 1% Lotion 25ml</td>\n",
       "      <td>[treat, the, most, severe, form, of, acne, (no...</td>\n",
       "    </tr>\n",
       "    <tr>\n",
       "      <th>...</th>\n",
       "      <td>...</td>\n",
       "      <td>...</td>\n",
       "      <td>...</td>\n",
       "    </tr>\n",
       "    <tr>\n",
       "      <th>9715</th>\n",
       "      <td>9716</td>\n",
       "      <td>T Muce Ointment 5gm</td>\n",
       "      <td>[used, for, treating, warts, Wound]</td>\n",
       "    </tr>\n",
       "    <tr>\n",
       "      <th>9716</th>\n",
       "      <td>9717</td>\n",
       "      <td>Wokadine 10% Solution 100mlWokadine Solution 5...</td>\n",
       "      <td>[used, to, soften, the, skin, cells, Wound]</td>\n",
       "    </tr>\n",
       "    <tr>\n",
       "      <th>9717</th>\n",
       "      <td>9718</td>\n",
       "      <td>Wokadine M Onit 10gm</td>\n",
       "      <td>[used, for, scars, Wound]</td>\n",
       "    </tr>\n",
       "    <tr>\n",
       "      <th>9718</th>\n",
       "      <td>9719</td>\n",
       "      <td>Wound Fix Solution 100ml</td>\n",
       "      <td>[used, for, wounds, Wound]</td>\n",
       "    </tr>\n",
       "    <tr>\n",
       "      <th>9719</th>\n",
       "      <td>9720</td>\n",
       "      <td>Wounsol Ointment 15gm</td>\n",
       "      <td>[used, to, treat, and, remove, raised, warts, ...</td>\n",
       "    </tr>\n",
       "  </tbody>\n",
       "</table>\n",
       "<p>9720 rows × 3 columns</p>\n",
       "</div>"
      ],
      "text/plain": [
       "      index                                          Drug_Name  \\\n",
       "0         1               A CN Gel(Topical) 20gmA CN Soap 75gm   \n",
       "1         2  A Ret 0.05% Gel 20gmA Ret 0.1% Gel 20gmA Ret 0...   \n",
       "2         3                             ACGEL CL NANO Gel 15gm   \n",
       "3         4                                ACGEL NANO Gel 15gm   \n",
       "4         5                              Acleen 1% Lotion 25ml   \n",
       "...     ...                                                ...   \n",
       "9715   9716                                T Muce Ointment 5gm   \n",
       "9716   9717  Wokadine 10% Solution 100mlWokadine Solution 5...   \n",
       "9717   9718                               Wokadine M Onit 10gm   \n",
       "9718   9719                           Wound Fix Solution 100ml   \n",
       "9719   9720                              Wounsol Ointment 15gm   \n",
       "\n",
       "                                                   tags  \n",
       "0             [Mild, to, moderate, acne, (spots), Acne]  \n",
       "1     [A, RET, 0.025%, is, a, prescription, medicine...  \n",
       "2     [It, is, used, to, treat, acne, vulgaris, in, ...  \n",
       "3     [It, is, used, to, treat, acne, vulgaris, in, ...  \n",
       "4     [treat, the, most, severe, form, of, acne, (no...  \n",
       "...                                                 ...  \n",
       "9715                [used, for, treating, warts, Wound]  \n",
       "9716        [used, to, soften, the, skin, cells, Wound]  \n",
       "9717                          [used, for, scars, Wound]  \n",
       "9718                         [used, for, wounds, Wound]  \n",
       "9719  [used, to, treat, and, remove, raised, warts, ...  \n",
       "\n",
       "[9720 rows x 3 columns]"
      ]
     },
     "execution_count": 431,
     "metadata": {},
     "output_type": "execute_result"
    }
   ],
   "source": [
    "new_df\n"
   ]
  },
  {
   "cell_type": "code",
   "execution_count": 432,
   "metadata": {},
   "outputs": [
    {
     "data": {
      "text/plain": [
       "0                      Mild to moderate acne (spots) Acne\n",
       "1       A RET 0.025% is a prescription medicine that i...\n",
       "2       It is used to treat acne vulgaris in people 12...\n",
       "3       It is used to treat acne vulgaris in people 12...\n",
       "4       treat the most severe form of acne (nodular ac...\n",
       "                              ...                        \n",
       "9715                        used for treating warts Wound\n",
       "9716                  used to soften the skin cells Wound\n",
       "9717                                 used for scars Wound\n",
       "9718                                used for wounds Wound\n",
       "9719    used to treat and remove raised warts (usually...\n",
       "Name: tags, Length: 9720, dtype: object"
      ]
     },
     "execution_count": 432,
     "metadata": {},
     "output_type": "execute_result"
    }
   ],
   "source": [
    "new_df['tags'].apply(lambda x:\" \".join(x))\n"
   ]
  },
  {
   "cell_type": "code",
   "execution_count": 433,
   "metadata": {},
   "outputs": [
    {
     "data": {
      "text/html": [
       "<div>\n",
       "<style scoped>\n",
       "    .dataframe tbody tr th:only-of-type {\n",
       "        vertical-align: middle;\n",
       "    }\n",
       "\n",
       "    .dataframe tbody tr th {\n",
       "        vertical-align: top;\n",
       "    }\n",
       "\n",
       "    .dataframe thead th {\n",
       "        text-align: right;\n",
       "    }\n",
       "</style>\n",
       "<table border=\"1\" class=\"dataframe\">\n",
       "  <thead>\n",
       "    <tr style=\"text-align: right;\">\n",
       "      <th></th>\n",
       "      <th>index</th>\n",
       "      <th>Drug_Name</th>\n",
       "      <th>tags</th>\n",
       "    </tr>\n",
       "  </thead>\n",
       "  <tbody>\n",
       "    <tr>\n",
       "      <th>0</th>\n",
       "      <td>1</td>\n",
       "      <td>A CN Gel(Topical) 20gmA CN Soap 75gm</td>\n",
       "      <td>[Mild, to, moderate, acne, (spots), Acne]</td>\n",
       "    </tr>\n",
       "    <tr>\n",
       "      <th>1</th>\n",
       "      <td>2</td>\n",
       "      <td>A Ret 0.05% Gel 20gmA Ret 0.1% Gel 20gmA Ret 0...</td>\n",
       "      <td>[A, RET, 0.025%, is, a, prescription, medicine...</td>\n",
       "    </tr>\n",
       "    <tr>\n",
       "      <th>2</th>\n",
       "      <td>3</td>\n",
       "      <td>ACGEL CL NANO Gel 15gm</td>\n",
       "      <td>[It, is, used, to, treat, acne, vulgaris, in, ...</td>\n",
       "    </tr>\n",
       "    <tr>\n",
       "      <th>3</th>\n",
       "      <td>4</td>\n",
       "      <td>ACGEL NANO Gel 15gm</td>\n",
       "      <td>[It, is, used, to, treat, acne, vulgaris, in, ...</td>\n",
       "    </tr>\n",
       "    <tr>\n",
       "      <th>4</th>\n",
       "      <td>5</td>\n",
       "      <td>Acleen 1% Lotion 25ml</td>\n",
       "      <td>[treat, the, most, severe, form, of, acne, (no...</td>\n",
       "    </tr>\n",
       "    <tr>\n",
       "      <th>...</th>\n",
       "      <td>...</td>\n",
       "      <td>...</td>\n",
       "      <td>...</td>\n",
       "    </tr>\n",
       "    <tr>\n",
       "      <th>9715</th>\n",
       "      <td>9716</td>\n",
       "      <td>T Muce Ointment 5gm</td>\n",
       "      <td>[used, for, treating, warts, Wound]</td>\n",
       "    </tr>\n",
       "    <tr>\n",
       "      <th>9716</th>\n",
       "      <td>9717</td>\n",
       "      <td>Wokadine 10% Solution 100mlWokadine Solution 5...</td>\n",
       "      <td>[used, to, soften, the, skin, cells, Wound]</td>\n",
       "    </tr>\n",
       "    <tr>\n",
       "      <th>9717</th>\n",
       "      <td>9718</td>\n",
       "      <td>Wokadine M Onit 10gm</td>\n",
       "      <td>[used, for, scars, Wound]</td>\n",
       "    </tr>\n",
       "    <tr>\n",
       "      <th>9718</th>\n",
       "      <td>9719</td>\n",
       "      <td>Wound Fix Solution 100ml</td>\n",
       "      <td>[used, for, wounds, Wound]</td>\n",
       "    </tr>\n",
       "    <tr>\n",
       "      <th>9719</th>\n",
       "      <td>9720</td>\n",
       "      <td>Wounsol Ointment 15gm</td>\n",
       "      <td>[used, to, treat, and, remove, raised, warts, ...</td>\n",
       "    </tr>\n",
       "  </tbody>\n",
       "</table>\n",
       "<p>9720 rows × 3 columns</p>\n",
       "</div>"
      ],
      "text/plain": [
       "      index                                          Drug_Name  \\\n",
       "0         1               A CN Gel(Topical) 20gmA CN Soap 75gm   \n",
       "1         2  A Ret 0.05% Gel 20gmA Ret 0.1% Gel 20gmA Ret 0...   \n",
       "2         3                             ACGEL CL NANO Gel 15gm   \n",
       "3         4                                ACGEL NANO Gel 15gm   \n",
       "4         5                              Acleen 1% Lotion 25ml   \n",
       "...     ...                                                ...   \n",
       "9715   9716                                T Muce Ointment 5gm   \n",
       "9716   9717  Wokadine 10% Solution 100mlWokadine Solution 5...   \n",
       "9717   9718                               Wokadine M Onit 10gm   \n",
       "9718   9719                           Wound Fix Solution 100ml   \n",
       "9719   9720                              Wounsol Ointment 15gm   \n",
       "\n",
       "                                                   tags  \n",
       "0             [Mild, to, moderate, acne, (spots), Acne]  \n",
       "1     [A, RET, 0.025%, is, a, prescription, medicine...  \n",
       "2     [It, is, used, to, treat, acne, vulgaris, in, ...  \n",
       "3     [It, is, used, to, treat, acne, vulgaris, in, ...  \n",
       "4     [treat, the, most, severe, form, of, acne, (no...  \n",
       "...                                                 ...  \n",
       "9715                [used, for, treating, warts, Wound]  \n",
       "9716        [used, to, soften, the, skin, cells, Wound]  \n",
       "9717                          [used, for, scars, Wound]  \n",
       "9718                         [used, for, wounds, Wound]  \n",
       "9719  [used, to, treat, and, remove, raised, warts, ...  \n",
       "\n",
       "[9720 rows x 3 columns]"
      ]
     },
     "execution_count": 433,
     "metadata": {},
     "output_type": "execute_result"
    }
   ],
   "source": [
    "new_df\n"
   ]
  },
  {
   "cell_type": "code",
   "execution_count": 434,
   "metadata": {},
   "outputs": [],
   "source": [
    "new_df['tags'] = new_df['tags'].apply(lambda x:\" \".join(x))\n"
   ]
  },
  {
   "cell_type": "code",
   "execution_count": 435,
   "metadata": {},
   "outputs": [
    {
     "data": {
      "text/html": [
       "<div>\n",
       "<style scoped>\n",
       "    .dataframe tbody tr th:only-of-type {\n",
       "        vertical-align: middle;\n",
       "    }\n",
       "\n",
       "    .dataframe tbody tr th {\n",
       "        vertical-align: top;\n",
       "    }\n",
       "\n",
       "    .dataframe thead th {\n",
       "        text-align: right;\n",
       "    }\n",
       "</style>\n",
       "<table border=\"1\" class=\"dataframe\">\n",
       "  <thead>\n",
       "    <tr style=\"text-align: right;\">\n",
       "      <th></th>\n",
       "      <th>index</th>\n",
       "      <th>Drug_Name</th>\n",
       "      <th>tags</th>\n",
       "    </tr>\n",
       "  </thead>\n",
       "  <tbody>\n",
       "    <tr>\n",
       "      <th>0</th>\n",
       "      <td>1</td>\n",
       "      <td>A CN Gel(Topical) 20gmA CN Soap 75gm</td>\n",
       "      <td>Mild to moderate acne (spots) Acne</td>\n",
       "    </tr>\n",
       "    <tr>\n",
       "      <th>1</th>\n",
       "      <td>2</td>\n",
       "      <td>A Ret 0.05% Gel 20gmA Ret 0.1% Gel 20gmA Ret 0...</td>\n",
       "      <td>A RET 0.025% is a prescription medicine that i...</td>\n",
       "    </tr>\n",
       "    <tr>\n",
       "      <th>2</th>\n",
       "      <td>3</td>\n",
       "      <td>ACGEL CL NANO Gel 15gm</td>\n",
       "      <td>It is used to treat acne vulgaris in people 12...</td>\n",
       "    </tr>\n",
       "    <tr>\n",
       "      <th>3</th>\n",
       "      <td>4</td>\n",
       "      <td>ACGEL NANO Gel 15gm</td>\n",
       "      <td>It is used to treat acne vulgaris in people 12...</td>\n",
       "    </tr>\n",
       "    <tr>\n",
       "      <th>4</th>\n",
       "      <td>5</td>\n",
       "      <td>Acleen 1% Lotion 25ml</td>\n",
       "      <td>treat the most severe form of acne (nodular ac...</td>\n",
       "    </tr>\n",
       "    <tr>\n",
       "      <th>...</th>\n",
       "      <td>...</td>\n",
       "      <td>...</td>\n",
       "      <td>...</td>\n",
       "    </tr>\n",
       "    <tr>\n",
       "      <th>9715</th>\n",
       "      <td>9716</td>\n",
       "      <td>T Muce Ointment 5gm</td>\n",
       "      <td>used for treating warts Wound</td>\n",
       "    </tr>\n",
       "    <tr>\n",
       "      <th>9716</th>\n",
       "      <td>9717</td>\n",
       "      <td>Wokadine 10% Solution 100mlWokadine Solution 5...</td>\n",
       "      <td>used to soften the skin cells Wound</td>\n",
       "    </tr>\n",
       "    <tr>\n",
       "      <th>9717</th>\n",
       "      <td>9718</td>\n",
       "      <td>Wokadine M Onit 10gm</td>\n",
       "      <td>used for scars Wound</td>\n",
       "    </tr>\n",
       "    <tr>\n",
       "      <th>9718</th>\n",
       "      <td>9719</td>\n",
       "      <td>Wound Fix Solution 100ml</td>\n",
       "      <td>used for wounds Wound</td>\n",
       "    </tr>\n",
       "    <tr>\n",
       "      <th>9719</th>\n",
       "      <td>9720</td>\n",
       "      <td>Wounsol Ointment 15gm</td>\n",
       "      <td>used to treat and remove raised warts (usually...</td>\n",
       "    </tr>\n",
       "  </tbody>\n",
       "</table>\n",
       "<p>9720 rows × 3 columns</p>\n",
       "</div>"
      ],
      "text/plain": [
       "      index                                          Drug_Name  \\\n",
       "0         1               A CN Gel(Topical) 20gmA CN Soap 75gm   \n",
       "1         2  A Ret 0.05% Gel 20gmA Ret 0.1% Gel 20gmA Ret 0...   \n",
       "2         3                             ACGEL CL NANO Gel 15gm   \n",
       "3         4                                ACGEL NANO Gel 15gm   \n",
       "4         5                              Acleen 1% Lotion 25ml   \n",
       "...     ...                                                ...   \n",
       "9715   9716                                T Muce Ointment 5gm   \n",
       "9716   9717  Wokadine 10% Solution 100mlWokadine Solution 5...   \n",
       "9717   9718                               Wokadine M Onit 10gm   \n",
       "9718   9719                           Wound Fix Solution 100ml   \n",
       "9719   9720                              Wounsol Ointment 15gm   \n",
       "\n",
       "                                                   tags  \n",
       "0                    Mild to moderate acne (spots) Acne  \n",
       "1     A RET 0.025% is a prescription medicine that i...  \n",
       "2     It is used to treat acne vulgaris in people 12...  \n",
       "3     It is used to treat acne vulgaris in people 12...  \n",
       "4     treat the most severe form of acne (nodular ac...  \n",
       "...                                                 ...  \n",
       "9715                      used for treating warts Wound  \n",
       "9716                used to soften the skin cells Wound  \n",
       "9717                               used for scars Wound  \n",
       "9718                              used for wounds Wound  \n",
       "9719  used to treat and remove raised warts (usually...  \n",
       "\n",
       "[9720 rows x 3 columns]"
      ]
     },
     "execution_count": 435,
     "metadata": {},
     "output_type": "execute_result"
    }
   ],
   "source": [
    "new_df\n"
   ]
  },
  {
   "cell_type": "code",
   "execution_count": 436,
   "metadata": {},
   "outputs": [],
   "source": [
    "new_df['tags'] = new_df['tags'].apply(lambda x:x.lower())\n"
   ]
  },
  {
   "cell_type": "code",
   "execution_count": 437,
   "metadata": {},
   "outputs": [
    {
     "data": {
      "text/html": [
       "<div>\n",
       "<style scoped>\n",
       "    .dataframe tbody tr th:only-of-type {\n",
       "        vertical-align: middle;\n",
       "    }\n",
       "\n",
       "    .dataframe tbody tr th {\n",
       "        vertical-align: top;\n",
       "    }\n",
       "\n",
       "    .dataframe thead th {\n",
       "        text-align: right;\n",
       "    }\n",
       "</style>\n",
       "<table border=\"1\" class=\"dataframe\">\n",
       "  <thead>\n",
       "    <tr style=\"text-align: right;\">\n",
       "      <th></th>\n",
       "      <th>index</th>\n",
       "      <th>Drug_Name</th>\n",
       "      <th>tags</th>\n",
       "    </tr>\n",
       "  </thead>\n",
       "  <tbody>\n",
       "    <tr>\n",
       "      <th>0</th>\n",
       "      <td>1</td>\n",
       "      <td>A CN Gel(Topical) 20gmA CN Soap 75gm</td>\n",
       "      <td>mild to moderate acne (spots) acne</td>\n",
       "    </tr>\n",
       "    <tr>\n",
       "      <th>1</th>\n",
       "      <td>2</td>\n",
       "      <td>A Ret 0.05% Gel 20gmA Ret 0.1% Gel 20gmA Ret 0...</td>\n",
       "      <td>a ret 0.025% is a prescription medicine that i...</td>\n",
       "    </tr>\n",
       "    <tr>\n",
       "      <th>2</th>\n",
       "      <td>3</td>\n",
       "      <td>ACGEL CL NANO Gel 15gm</td>\n",
       "      <td>it is used to treat acne vulgaris in people 12...</td>\n",
       "    </tr>\n",
       "    <tr>\n",
       "      <th>3</th>\n",
       "      <td>4</td>\n",
       "      <td>ACGEL NANO Gel 15gm</td>\n",
       "      <td>it is used to treat acne vulgaris in people 12...</td>\n",
       "    </tr>\n",
       "    <tr>\n",
       "      <th>4</th>\n",
       "      <td>5</td>\n",
       "      <td>Acleen 1% Lotion 25ml</td>\n",
       "      <td>treat the most severe form of acne (nodular ac...</td>\n",
       "    </tr>\n",
       "    <tr>\n",
       "      <th>...</th>\n",
       "      <td>...</td>\n",
       "      <td>...</td>\n",
       "      <td>...</td>\n",
       "    </tr>\n",
       "    <tr>\n",
       "      <th>9715</th>\n",
       "      <td>9716</td>\n",
       "      <td>T Muce Ointment 5gm</td>\n",
       "      <td>used for treating warts wound</td>\n",
       "    </tr>\n",
       "    <tr>\n",
       "      <th>9716</th>\n",
       "      <td>9717</td>\n",
       "      <td>Wokadine 10% Solution 100mlWokadine Solution 5...</td>\n",
       "      <td>used to soften the skin cells wound</td>\n",
       "    </tr>\n",
       "    <tr>\n",
       "      <th>9717</th>\n",
       "      <td>9718</td>\n",
       "      <td>Wokadine M Onit 10gm</td>\n",
       "      <td>used for scars wound</td>\n",
       "    </tr>\n",
       "    <tr>\n",
       "      <th>9718</th>\n",
       "      <td>9719</td>\n",
       "      <td>Wound Fix Solution 100ml</td>\n",
       "      <td>used for wounds wound</td>\n",
       "    </tr>\n",
       "    <tr>\n",
       "      <th>9719</th>\n",
       "      <td>9720</td>\n",
       "      <td>Wounsol Ointment 15gm</td>\n",
       "      <td>used to treat and remove raised warts (usually...</td>\n",
       "    </tr>\n",
       "  </tbody>\n",
       "</table>\n",
       "<p>9720 rows × 3 columns</p>\n",
       "</div>"
      ],
      "text/plain": [
       "      index                                          Drug_Name  \\\n",
       "0         1               A CN Gel(Topical) 20gmA CN Soap 75gm   \n",
       "1         2  A Ret 0.05% Gel 20gmA Ret 0.1% Gel 20gmA Ret 0...   \n",
       "2         3                             ACGEL CL NANO Gel 15gm   \n",
       "3         4                                ACGEL NANO Gel 15gm   \n",
       "4         5                              Acleen 1% Lotion 25ml   \n",
       "...     ...                                                ...   \n",
       "9715   9716                                T Muce Ointment 5gm   \n",
       "9716   9717  Wokadine 10% Solution 100mlWokadine Solution 5...   \n",
       "9717   9718                               Wokadine M Onit 10gm   \n",
       "9718   9719                           Wound Fix Solution 100ml   \n",
       "9719   9720                              Wounsol Ointment 15gm   \n",
       "\n",
       "                                                   tags  \n",
       "0                    mild to moderate acne (spots) acne  \n",
       "1     a ret 0.025% is a prescription medicine that i...  \n",
       "2     it is used to treat acne vulgaris in people 12...  \n",
       "3     it is used to treat acne vulgaris in people 12...  \n",
       "4     treat the most severe form of acne (nodular ac...  \n",
       "...                                                 ...  \n",
       "9715                      used for treating warts wound  \n",
       "9716                used to soften the skin cells wound  \n",
       "9717                               used for scars wound  \n",
       "9718                              used for wounds wound  \n",
       "9719  used to treat and remove raised warts (usually...  \n",
       "\n",
       "[9720 rows x 3 columns]"
      ]
     },
     "execution_count": 437,
     "metadata": {},
     "output_type": "execute_result"
    }
   ],
   "source": [
    "new_df\n"
   ]
  },
  {
   "cell_type": "code",
   "execution_count": 438,
   "metadata": {},
   "outputs": [],
   "source": [
    "import nltk\n"
   ]
  },
  {
   "cell_type": "code",
   "execution_count": 439,
   "metadata": {},
   "outputs": [],
   "source": [
    "from nltk.stem.porter import PorterStemmer\n",
    "ps = PorterStemmer()"
   ]
  },
  {
   "cell_type": "code",
   "execution_count": 440,
   "metadata": {},
   "outputs": [],
   "source": [
    "from sklearn.feature_extraction.text import CountVectorizer\n",
    "cv = CountVectorizer(stop_words='english',max_features=5000)"
   ]
  },
  {
   "cell_type": "code",
   "execution_count": 441,
   "metadata": {},
   "outputs": [],
   "source": [
    "def stem(text):\n",
    "  y = []\n",
    "  for i in text.split():\n",
    "    y.append(ps.stem(i))\n",
    "\n",
    "  return \" \".join(y)"
   ]
  },
  {
   "cell_type": "code",
   "execution_count": 442,
   "metadata": {},
   "outputs": [],
   "source": [
    "new_df['tags'] = new_df['tags'].apply(stem)\n"
   ]
  },
  {
   "cell_type": "code",
   "execution_count": 443,
   "metadata": {},
   "outputs": [
    {
     "data": {
      "text/plain": [
       "(9720, 806)"
      ]
     },
     "execution_count": 443,
     "metadata": {},
     "output_type": "execute_result"
    }
   ],
   "source": [
    "cv.fit_transform(new_df['tags']).toarray().shape\n"
   ]
  },
  {
   "cell_type": "code",
   "execution_count": 444,
   "metadata": {},
   "outputs": [],
   "source": [
    "vectors = cv.fit_transform(new_df['tags']).toarray()\n"
   ]
  },
  {
   "cell_type": "code",
   "execution_count": 445,
   "metadata": {},
   "outputs": [
    {
     "data": {
      "text/plain": [
       "array(['025', '12', '16', '18', 'abdomin', 'abl', 'ach', 'acid', 'acn',\n",
       "       'acne', 'acquir', 'action', 'activ', 'acut', 'acute', 'adequ',\n",
       "       'adhd', 'adjunct', 'adolesc', 'adult', 'adults', 'affect', 'ag',\n",
       "       'age', 'aids', 'allerg', 'allergen', 'allergi', 'allow', 'alon',\n",
       "       'alzheim', 'alzheimer', 'alzheimerâ', 'amoebiasi', 'anaemia',\n",
       "       'anal', 'angina', 'angl', 'ani', 'ankylos', 'anorexia', 'anoth',\n",
       "       'anti', 'antioxid', 'antipsychot', 'antiretrovir', 'anxieti',\n",
       "       'anxiou', 'anxious', 'apnoea', 'appear', 'appetit', 'appetite',\n",
       "       'appli', 'appropri', 'area', 'arrhythmia', 'arrhythmiasi',\n",
       "       'arteri', 'arthralgia', 'arthriti', 'associ', 'atherothrombot',\n",
       "       'athleteâ', 'atop', 'atrial', 'attack', 'awak', 'b1', 'b2', 'b3',\n",
       "       'b5', 'b6', 'babi', 'backache', 'bacteri', 'bacteria', 'balanc',\n",
       "       'balanitis', 'bandag', 'becom', 'behaviour', 'beliefs', 'benefit',\n",
       "       'beta', 'biliari', 'biotin', 'bite', 'blackhead', 'blackheads',\n",
       "       'bleaches', 'bleed', 'bloating', 'block', 'blood', 'bodi', 'bodyâ',\n",
       "       'bon', 'bone', 'bones', 'bowel', 'brain', 'breakdown', 'breath',\n",
       "       'brighten', 'bronchiti', 'brown', 'bursitis', 'calcium', 'calm',\n",
       "       'cancer', 'candid', 'candidiasis', 'canâ', 'carbohydr',\n",
       "       'cardiovascular', 'care', 'carrier', 'cartilag', 'case', 'cases',\n",
       "       'cataract', 'caus', 'cavity', 'cell', 'certain', 'chanc', 'chang',\n",
       "       'characteris', 'chemic', 'chemotherapi', 'chest', 'chickenpox',\n",
       "       'childhood', 'children', 'chlosma', 'cholesterol', 'chronic',\n",
       "       'clean', 'cleaner', 'cleanser', 'clear', 'clot', 'cmv', 'cold',\n",
       "       'colds', 'colic', 'colon', 'colorect', 'coma', 'combin', 'common',\n",
       "       'complet', 'complexion', 'concomit', 'condit', 'conditions',\n",
       "       'confused', 'confusion', 'congestion', 'conjunct', 'consciousness',\n",
       "       'consid', 'consist', 'constip', 'constipation', 'constipationâ',\n",
       "       'continu', 'contracept', 'control', 'contusion', 'convent',\n",
       "       'convulsion', 'corpori', 'corticosteroid', 'cough', 'cramp',\n",
       "       'cream', 'cruri', 'cushion', 'cycl', 'cytomegaloviru',\n",
       "       'cytoprotect', 'd3', 'daili', 'damag', 'dandruff', 'dark', 'death',\n",
       "       'decreas', 'defici', 'degrad', 'degre', 'delay', 'demand',\n",
       "       'dementia', 'dental', 'deposit', 'depress', 'depressed', 'dermat',\n",
       "       'deterg', 'diabet', 'diagnost', 'diarrhea', 'diarrhoea', 'diet',\n",
       "       'differ', 'difficult', 'difficulti', 'digest', 'digestion',\n",
       "       'dilate', 'discolor', 'discoloured', 'diseas', 'disord',\n",
       "       'disorder', 'disorders', 'displac', 'distens', 'dizzi', 'doctor',\n",
       "       'doe', 'drain', 'drained', 'dri', 'drop', 'drowsi', 'drugs',\n",
       "       'dull', 'dure', 'dysmenorrhea', 'ear', 'ears', 'eczema', 'effect',\n",
       "       'effects', 'elbow', 'element', 'emot', 'encephalopathi',\n",
       "       'endometriosi', 'energi', 'energy', 'enhanc', 'enlarg', 'enzym',\n",
       "       'enzyme', 'epicondylitis', 'episod', 'especi', 'essenti', 'event',\n",
       "       'excess', 'exercis', 'exfoli', 'exocrin', 'extern', 'extra', 'eye',\n",
       "       'eyes', 'face', 'fade', 'fail', 'failur', 'failure', 'fast', 'fat',\n",
       "       'fatigue', 'fats', 'fatti', 'febril', 'feed', 'feel', 'feet',\n",
       "       'fever', 'feverish', 'fibril', 'fine', 'fissur', 'flat', 'flatul',\n",
       "       'flatulence', 'flexibl', 'flow', 'flu', 'fluid', 'flutter',\n",
       "       'focus', 'folic', 'follow', 'food', 'foot', 'form', 'format',\n",
       "       'free', 'fresh', 'friction', 'function', 'fungal', 'fungi',\n",
       "       'fungu', 'gain', 'gener', 'genit', 'gland', 'glaucoma', 'glow',\n",
       "       'gonorrhoea', 'good', 'gout', 'gradual', 'gravi', 'growth',\n",
       "       'guilty', 'gum', 'ha', 'haematopoiesi', 'haemorrhoid',\n",
       "       'haemorrhoidectomi', 'haemorrhoids', 'hair', 'hallucinations',\n",
       "       'hands', 'hard', 'hay', 'head', 'headach', 'headache', 'heal',\n",
       "       'health', 'healthy', 'hear', 'hearing', 'heart', 'heartbeat',\n",
       "       'help', 'hepat', 'herp', 'high', 'hiv', 'hives', 'hormon',\n",
       "       'hospit', 'human', 'hygien', 'hypercalcaemia', 'hyperparathyroid',\n",
       "       'hyperpigment', 'hyperpigmentation', 'hypertens', 'hypertension',\n",
       "       'hyperthyroid', 'hypertrophi', 'hypnosi', 'hypotens',\n",
       "       'hypothyroid', 'hypothyroidism', 'hyroid', 'ibs', 'immun',\n",
       "       'immunodefici', 'improv', 'improvesâ', 'includ', 'incoher',\n",
       "       'incomplet', 'increas', 'indic', 'indigest', 'induc', 'infect',\n",
       "       'infection', 'infections', 'infest', 'inflamm', 'inflammationâ',\n",
       "       'inflammatori', 'influenza', 'infrequ', 'inguinalis', 'inhal',\n",
       "       'inhibitor', 'injuri', 'inner', 'insect', 'insid', 'insomnia',\n",
       "       'insufficiencyâ', 'integr', 'intens', 'interdigit', 'intern',\n",
       "       'interrupt', 'intestin', 'intestinal', 'intoler', 'invas',\n",
       "       'involuntari', 'iodine', 'iritis', 'iron', 'irrit', 'isâ', 'itch',\n",
       "       'itâ', 'jewelleri', 'jock', 'joint', 'kidney', 'kit', 'knees',\n",
       "       'known', 'lack', 'lactat', 'lead', 'learning', 'left', 'level',\n",
       "       'lice', 'life', 'ligaments', 'line', 'lip', 'liquid', 'liv',\n",
       "       'live', 'liver', 'long', 'look', 'lose', 'loss', 'lotion', 'lower',\n",
       "       'lowersâ', 'lowerâ', 'lung', 'lvh', 'mainli', 'maintain', 'major',\n",
       "       'make', 'malari', 'malaria', 'malignancies', 'manag', 'manganese',\n",
       "       'mani', 'manuum', 'marrow', 'medic', 'medicin', 'melanin',\n",
       "       'melasma', 'mellitu', 'memori', 'men', 'mening', 'menopaus',\n",
       "       'mental', 'metabol', 'methyl', 'micronutri', 'migrain', 'migraine',\n",
       "       'mild', 'milk', 'miner', 'minor', 'mistaken', 'mobil', 'moder',\n",
       "       'moderate', 'moistur', 'molybdenum', 'motion', 'movement',\n",
       "       'movements', 'muscl', 'muscular', 'musculoskelet', 'myalgia',\n",
       "       'myasthenia', 'mydriasi', 'myeloid', 'narrow', 'nasal', 'natur',\n",
       "       'nausea', 'need', 'nephropathy', 'nerv', 'nervosa', 'nervousness',\n",
       "       'nettl', 'neuralgia', 'neutral', 'newborns', 'nodular', 'non',\n",
       "       'normal', 'nose', 'nutrient', 'nutrit', 'occur', 'ocular', 'ofâ',\n",
       "       'oili', 'older', 'onli', 'op', 'open', 'oper', 'oral', 'origin',\n",
       "       'osteoarthr', 'osteodystrophy', 'osteoporosi', 'oxid', 'oxidation',\n",
       "       'pah', 'pain', 'pancrea', 'paralys', 'parathyroid', 'parkinson',\n",
       "       'parkinsonâ', 'passag', 'patch', 'patches', 'patient', 'patientsâ',\n",
       "       'pectori', 'pectoris', 'pedis', 'pelvic', 'penil', 'peopl',\n",
       "       'peptid', 'period', 'physic', 'piles', 'pimpl', 'pimple',\n",
       "       'pityriasi', 'polysaccharid', 'portal', 'post', 'potent', 'power',\n",
       "       'pre', 'prednisolon', 'pregnanc', 'prematur', 'preoper',\n",
       "       'prescrib', 'prescript', 'present', 'pressur', 'prevent', 'prexia',\n",
       "       'primari', 'prinzmet', 'problem', 'procedur', 'process',\n",
       "       'proctiti', 'produc', 'product', 'progress', 'prolactin', 'promot',\n",
       "       'properti', 'protect', 'provid', 'pseudo', 'psychosi',\n",
       "       'psychosomat', 'pulmonari', 'pupil', 'pyrexia', 'rabi', 'radicals',\n",
       "       'radiculitis', 'rais', 'rarer', 'rash', 'react', 'reaction',\n",
       "       'receiv', 'recommend', 'red', 'reduc', 'reduct', 'refer',\n",
       "       'regener', 'regimen', 'relat', 'releief', 'relief', 'reliev',\n",
       "       'reliv', 'remov', 'renal', 'repair', 'replac', 'reproduct',\n",
       "       'resist', 'respiratori', 'respond', 'respons', 'restor', 'ret',\n",
       "       'retin', 'rheumat', 'ring', 'ringworm', 'root', 'rosacea', 'scabi',\n",
       "       'scali', 'scalp', 'scar', 'schizophren', 'schizophrenia',\n",
       "       'seborrh', 'sed', 'sedat', 'sens', 'sever', 'shingl', 'short',\n",
       "       'sick', 'sickness', 'silki', 'simpl', 'simplex', 'sinusitis',\n",
       "       'skelet', 'skin', 'skinâ', 'sleep', 'slow', 'small', 'smoke',\n",
       "       'smooth', 'soaps', 'soar', 'soft', 'soften', 'soothen', 'sore',\n",
       "       'sores', 'spasmod', 'speech', 'speed', 'spondyl', 'spot', 'spots',\n",
       "       'sprain', 'spread', 'stabil', 'starch', 'start', 'state',\n",
       "       'steroids', 'stiff', 'stomach', 'stools', 'stop', 'strains',\n",
       "       'strengthen', 'stroke', 'structur', 'substanc', 'suffer', 'sugar',\n",
       "       'sunburn', 'sunscreen', 'suppl', 'supplement', 'support',\n",
       "       'surgeri', 'surgeryâ', 'surgic', 'suspiciousness', 'sweat',\n",
       "       'swell', 'swelling', 'swollen', 'symptom', 'symptomat', 'symptoms',\n",
       "       'syndrom', 'synovi', 'synovitis', 'synthesi', 'synthet',\n",
       "       'syphilis', 'tablet', 'tachycardia', 'task', 'temperature',\n",
       "       'tender', 'tendonitis', 'tens', 'term', 'textur', 'therapi',\n",
       "       'therebi', 'thi', 'thing', 'throat', 'thrombolysi', 'thrush',\n",
       "       'thu', 'thyroid', 'thyroxin', 'time', 'tinea', 'tinnitus', 'tissu',\n",
       "       'tissues', 'toe', 'tone', 'tonsil', 'tonsilitis', 'tonsillectomi',\n",
       "       'toothach', 'toothache', 'topic', 'trace', 'tract', 'transmit',\n",
       "       'transplant', 'trauma', 'traumat', 'travel', 'treat', 'treatment',\n",
       "       'treatsâ', 'treatâ', 'tremor', 'triglycerid', 'tubercular', 'type',\n",
       "       'ulcer', 'unabl', 'unbalanc', 'uncompl', 'uneven', 'unstabl',\n",
       "       'unusu', 'unwant', 'upper', 'uptak', 'urate', 'uretericâ', 'uric',\n",
       "       'urinaryâ', 'use', 'uses', 'usual', 'uveiti', 'vaccin', 'vagin',\n",
       "       'variant', 'varieti', 'ventricular', 'verruca', 'versicolor',\n",
       "       'vertigo', 'vessel', 'viral', 'viru', 'virus', 'vitamin',\n",
       "       'vitamins', 'volume', 'vomit', 'vulgari', 'vulgarisâ', 'wall',\n",
       "       'wart', 'wash', 'weak', 'weaken', 'weight', 'wet', 'whichâ',\n",
       "       'whilst', 'white', 'widen', 'withdrawn', 'womb', 'women', 'work',\n",
       "       'worsen', 'wound', 'wrinkl', 'wrinkles', 'year', 'younger', 'zinc',\n",
       "       'œpancreat'], dtype=object)"
      ]
     },
     "execution_count": 445,
     "metadata": {},
     "output_type": "execute_result"
    }
   ],
   "source": [
    "cv.get_feature_names_out()\n"
   ]
  },
  {
   "cell_type": "code",
   "execution_count": 446,
   "metadata": {},
   "outputs": [],
   "source": [
    "from sklearn.metrics.pairwise import cosine_similarity\n"
   ]
  },
  {
   "cell_type": "code",
   "execution_count": 447,
   "metadata": {},
   "outputs": [
    {
     "data": {
      "text/plain": [
       "array([[1.        , 0.25197632, 0.43643578, ..., 0.        , 0.        ,\n",
       "        0.        ],\n",
       "       [0.25197632, 1.        , 0.25660012, ..., 0.19245009, 0.1490712 ,\n",
       "        0.0860663 ],\n",
       "       [0.43643578, 0.25660012, 1.        , ..., 0.11111111, 0.0860663 ,\n",
       "        0.0993808 ],\n",
       "       ...,\n",
       "       [0.        , 0.19245009, 0.11111111, ..., 1.        , 0.77459667,\n",
       "        0.2981424 ],\n",
       "       [0.        , 0.1490712 , 0.0860663 , ..., 0.77459667, 1.        ,\n",
       "        0.34641016],\n",
       "       [0.        , 0.0860663 , 0.0993808 , ..., 0.2981424 , 0.34641016,\n",
       "        1.        ]], shape=(9720, 9720))"
      ]
     },
     "execution_count": 447,
     "metadata": {},
     "output_type": "execute_result"
    }
   ],
   "source": [
    "cosine_similarity(vectors)\n"
   ]
  },
  {
   "cell_type": "code",
   "execution_count": 448,
   "metadata": {},
   "outputs": [],
   "source": [
    "similarity = cosine_similarity(vectors)\n"
   ]
  },
  {
   "cell_type": "code",
   "execution_count": 449,
   "metadata": {},
   "outputs": [
    {
     "data": {
      "text/plain": [
       "array([0.25197632, 1.        , 0.25660012, ..., 0.19245009, 0.1490712 ,\n",
       "       0.0860663 ], shape=(9720,))"
      ]
     },
     "execution_count": 449,
     "metadata": {},
     "output_type": "execute_result"
    }
   ],
   "source": [
    "similarity[1]\n"
   ]
  },
  {
   "cell_type": "code",
   "execution_count": 450,
   "metadata": {},
   "outputs": [],
   "source": [
    "def recommend(medicine):\n",
    "    medicine_index = new_df[new_df['Drug_Name'] == medicine].index[0]\n",
    "    distances = similarity[medicine_index]\n",
    "    medicines_list = sorted(list(enumerate(distances)), reverse=True, key=lambda x: x[1])[1:6]\n",
    "\n",
    "    print(f\"Alternative medicines for {medicine} with side effects:\")\n",
    "    for i in medicines_list:\n",
    "        alt_medicine = new_df.iloc[i[0]].Drug_Name.strip()  # Remove spaces\n",
    "        print(f\"Checking side effects for: {alt_medicine}\")\n",
    "        \n",
    "        side_effects = df[df['Drug_Name'] == alt_medicine]['Side_Effects'].values\n",
    "        print(f\"Raw side effects data: {side_effects}\")\n",
    "\n",
    "        side_effects_text = side_effects[0] if len(side_effects) > 0 else \"No known side effects\"\n",
    "        \n",
    "        print(f\"- {alt_medicine}: {side_effects_text}\")\n"
   ]
  },
  {
   "cell_type": "code",
   "execution_count": 451,
   "metadata": {},
   "outputs": [
    {
     "name": "stdout",
     "output_type": "stream",
     "text": [
      "Alternative medicines for Paracetamol 125mg Syrup 60mlParacetamol 500mg Tablet 10'S with side effects:\n",
      "Checking side effects for: Oxypamol D Tablet 10'S\n",
      "Raw side effects data: ['Nausea, Dry mouth, Diarrhea']\n",
      "- Oxypamol D Tablet 10'S: Nausea, Dry mouth, Diarrhea\n",
      "Checking side effects for: Pacimol MF Tablet 10'S\n",
      "Raw side effects data: ['Rash, Stomach pain, Vomiting']\n",
      "- Pacimol MF Tablet 10'S: Rash, Stomach pain, Vomiting\n",
      "Checking side effects for: Painil Plus 100/500mg Tablet 10'S\n",
      "Raw side effects data: ['Diarrhea, Fatigue, Headache']\n",
      "- Painil Plus 100/500mg Tablet 10'S: Diarrhea, Fatigue, Headache\n",
      "Checking side effects for: Pamagin Plus Gel 30gm\n",
      "Raw side effects data: ['Dry mouth, Headache, Nausea']\n",
      "- Pamagin Plus Gel 30gm: Dry mouth, Headache, Nausea\n",
      "Checking side effects for: Paracetamol 125mg Syrup 60mlParacetamol 500mg Tablet 10'S\n",
      "Raw side effects data: ['Fatigue, Drowsiness, Dry mouth']\n",
      "- Paracetamol 125mg Syrup 60mlParacetamol 500mg Tablet 10'S: Fatigue, Drowsiness, Dry mouth\n"
     ]
    }
   ],
   "source": [
    "recommend(\"Paracetamol 125mg Syrup 60mlParacetamol 500mg Tablet 10'S\")\n"
   ]
  },
  {
   "cell_type": "code",
   "execution_count": 452,
   "metadata": {},
   "outputs": [],
   "source": [
    "import pickle\n"
   ]
  },
  {
   "cell_type": "code",
   "execution_count": 453,
   "metadata": {},
   "outputs": [],
   "source": [
    "pickle.dump(new_df.to_dict(),open('medicine_dict.pkl','wb'))\n",
    "pickle.dump(similarity,open('similarity.pkl','wb'))"
   ]
  },
  {
   "cell_type": "code",
   "execution_count": 454,
   "metadata": {},
   "outputs": [
    {
     "name": "stdout",
     "output_type": "stream",
     "text": [
      "Alternative medicines for ACGEL NANO Gel 15gm with side effects:\n",
      "Checking side effects for: ACGEL NANO Gel 15gm\n",
      "Raw side effects data: ['Stomach pain, Fatigue, Nausea']\n",
      "- ACGEL NANO Gel 15gm: Stomach pain, Fatigue, Nausea\n",
      "Checking side effects for: Acnehit Gel 15gm\n",
      "Raw side effects data: ['Drowsiness, Rash, Dizziness']\n",
      "- Acnehit Gel 15gm: Drowsiness, Rash, Dizziness\n",
      "Checking side effects for: Acnelak Soap 75gm\n",
      "Raw side effects data: ['Rash, Vomiting, Dizziness']\n",
      "- Acnelak Soap 75gm: Rash, Vomiting, Dizziness\n",
      "Checking side effects for: Acnetor AD 1% Ointment 15gm\n",
      "Raw side effects data: ['Dizziness, Diarrhea, Rash']\n",
      "- Acnetor AD 1% Ointment 15gm: Dizziness, Diarrhea, Rash\n",
      "Checking side effects for: Acnetor AD Cream 15Acnetor AD Gel 15gm\n",
      "Raw side effects data: ['Fatigue, Drowsiness, Vomiting']\n",
      "- Acnetor AD Cream 15Acnetor AD Gel 15gm: Fatigue, Drowsiness, Vomiting\n"
     ]
    }
   ],
   "source": [
    "recommend(\"ACGEL NANO Gel 15gm\")\n"
   ]
  },
  {
   "cell_type": "code",
   "execution_count": 455,
   "metadata": {},
   "outputs": [
    {
     "name": "stdout",
     "output_type": "stream",
     "text": [
      "Alternative medicines for BLUDEC K 75mg Injection 2mlBLUDEC K Tablet 10's with side effects:\n",
      "Checking side effects for: Aceclo Sera Tablet 10'S\n",
      "Raw side effects data: ['Drowsiness, Rash, Diarrhea']\n",
      "- Aceclo Sera Tablet 10'S: Drowsiness, Rash, Diarrhea\n",
      "Checking side effects for: Aceclopure SP Tablet 10'S\n",
      "Raw side effects data: ['Fatigue, Diarrhea, Stomach pain']\n",
      "- Aceclopure SP Tablet 10'S: Fatigue, Diarrhea, Stomach pain\n",
      "Checking side effects for: Aceden SP Tablet 10'S\n",
      "Raw side effects data: ['Stomach pain, Rash, Drowsiness']\n",
      "- Aceden SP Tablet 10'S: Stomach pain, Rash, Drowsiness\n",
      "Checking side effects for: Aceflam S Tablet 10'S\n",
      "Raw side effects data: ['Dizziness, Stomach pain, Rash']\n",
      "- Aceflam S Tablet 10'S: Dizziness, Stomach pain, Rash\n",
      "Checking side effects for: Acemiz Fast 4/100mg Tablet 10'S\n",
      "Raw side effects data: ['Stomach pain, Drowsiness, Dry mouth']\n",
      "- Acemiz Fast 4/100mg Tablet 10'S: Stomach pain, Drowsiness, Dry mouth\n"
     ]
    }
   ],
   "source": [
    "recommend(\"BLUDEC K 75mg Injection 2mlBLUDEC K Tablet 10's\")\n"
   ]
  },
  {
   "cell_type": "code",
   "execution_count": 456,
   "metadata": {},
   "outputs": [
    {
     "name": "stdout",
     "output_type": "stream",
     "text": [
      "Alternative medicines for Strocit CR Tablet 10'S with side effects:\n",
      "Checking side effects for: Strocit CR Tablet 10'S\n",
      "Raw side effects data: ['Diarrhea, Rash, Dizziness']\n",
      "- Strocit CR Tablet 10'S: Diarrhea, Rash, Dizziness\n",
      "Checking side effects for: Strocit Oral Drops 30ml\n",
      "Raw side effects data: ['Dry mouth, Rash, Dizziness']\n",
      "- Strocit Oral Drops 30ml: Dry mouth, Rash, Dizziness\n",
      "Checking side effects for: Strocoz 250mg Injection 4mlStrocoz 250mg Injection 2mlStrocoz 500mg Syrup 60ml\n",
      "Raw side effects data: ['Vomiting, Dry mouth, Dizziness']\n",
      "- Strocoz 250mg Injection 4mlStrocoz 250mg Injection 2mlStrocoz 500mg Syrup 60ml: Vomiting, Dry mouth, Dizziness\n",
      "Checking side effects for: Strolife 500/800mg Tablet 10'S\n",
      "Raw side effects data: ['Vomiting, Nausea, Fatigue']\n",
      "- Strolife 500/800mg Tablet 10'S: Vomiting, Nausea, Fatigue\n",
      "Checking side effects for: Strolife Mono 500mg Tablet 10'S\n",
      "Raw side effects data: ['Stomach pain, Dry mouth, Drowsiness']\n",
      "- Strolife Mono 500mg Tablet 10'S: Stomach pain, Dry mouth, Drowsiness\n"
     ]
    }
   ],
   "source": [
    "recommend(\"Strocit CR Tablet 10'S\")\n"
   ]
  },
  {
   "cell_type": "code",
   "execution_count": 457,
   "metadata": {},
   "outputs": [
    {
     "name": "stdout",
     "output_type": "stream",
     "text": [
      "Alternative medicines for EXIZOL ANTIDANDRUFF SHAMPOO Scrub 50ml with side effects:\n",
      "Checking side effects for: EXIZOL ANTIDANDRUFF SHAMPOO Scrub 50ml\n",
      "Raw side effects data: ['Dry mouth, Stomach pain, Dizziness']\n",
      "- EXIZOL ANTIDANDRUFF SHAMPOO Scrub 50ml: Dry mouth, Stomach pain, Dizziness\n",
      "Checking side effects for: Kenz Sal Lotion 60ml\n",
      "Raw side effects data: ['Rash, Dizziness, Stomach pain']\n",
      "- Kenz Sal Lotion 60ml: Rash, Dizziness, Stomach pain\n",
      "Checking side effects for: Ketomac 2% Shampoo 75ml\n",
      "Raw side effects data: ['Rash, Nausea, Dizziness']\n",
      "- Ketomac 2% Shampoo 75ml: Rash, Nausea, Dizziness\n",
      "Checking side effects for: Kezolin Shampoo 100ml\n",
      "Raw side effects data: ['Drowsiness, Stomach pain, Fatigue']\n",
      "- Kezolin Shampoo 100ml: Drowsiness, Stomach pain, Fatigue\n",
      "Checking side effects for: Mycoclin Shampoo 60ml\n",
      "Raw side effects data: ['Stomach pain, Rash, Diarrhea']\n",
      "- Mycoclin Shampoo 60ml: Stomach pain, Rash, Diarrhea\n"
     ]
    }
   ],
   "source": [
    "recommend(\"EXIZOL ANTIDANDRUFF SHAMPOO Scrub 50ml\")"
   ]
  },
  {
   "cell_type": "code",
   "execution_count": 458,
   "metadata": {},
   "outputs": [
    {
     "name": "stdout",
     "output_type": "stream",
     "text": [
      "Alternative medicines for Encardil 2.5mg Tablet 10'SEncardil 10mg Tablet 10'SEncardil 5mg Tablet 10'S with side effects:\n",
      "Checking side effects for: Abel 10mg Tablet 10'SAbel 40mg Tablet 10'SAbel 80mg Tablet 10'SAbel 20mg Tablet 10'S\n",
      "Raw side effects data: ['Drowsiness, Vomiting, Nausea']\n",
      "- Abel 10mg Tablet 10'SAbel 40mg Tablet 10'SAbel 80mg Tablet 10'SAbel 20mg Tablet 10'S: Drowsiness, Vomiting, Nausea\n",
      "Checking side effects for: ABTELMI 80mg Tablet 10'sABTELMI 20mg Tablet 10'sABTELMI 40mg Tablet 10's\n",
      "Raw side effects data: ['Drowsiness, Headache, Fatigue']\n",
      "- ABTELMI 80mg Tablet 10'sABTELMI 20mg Tablet 10'sABTELMI 40mg Tablet 10's: Drowsiness, Headache, Fatigue\n",
      "Checking side effects for: Ace 5Mg Tablet 10'sAce 2.5Mg Tablet 10's\n",
      "Raw side effects data: ['Vomiting, Dizziness, Nausea']\n",
      "- Ace 5Mg Tablet 10'sAce 2.5Mg Tablet 10's: Vomiting, Dizziness, Nausea\n",
      "Checking side effects for: Acinopril 2.5mg Tablet 10'S\n",
      "Raw side effects data: ['Drowsiness, Diarrhea, Dry mouth']\n",
      "- Acinopril 2.5mg Tablet 10'S: Drowsiness, Diarrhea, Dry mouth\n",
      "Checking side effects for: ACTIBLOK IPR 100mg Tablet 10'SActiblok Ipr 50mg Tablet 10'SActiblok Ipr 25mg Tablet 10'S\n",
      "Raw side effects data: ['Dry mouth, Nausea, Dizziness']\n",
      "- ACTIBLOK IPR 100mg Tablet 10'SActiblok Ipr 50mg Tablet 10'SActiblok Ipr 25mg Tablet 10'S: Dry mouth, Nausea, Dizziness\n"
     ]
    }
   ],
   "source": [
    "recommend(\"Encardil 2.5mg Tablet 10'SEncardil 10mg Tablet 10'SEncardil 5mg Tablet 10'S\")"
   ]
  },
  {
   "cell_type": "code",
   "execution_count": null,
   "metadata": {},
   "outputs": [],
   "source": []
  }
 ],
 "metadata": {
  "kernelspec": {
   "display_name": "Python 3",
   "language": "python",
   "name": "python3"
  },
  "language_info": {
   "codemirror_mode": {
    "name": "ipython",
    "version": 3
   },
   "file_extension": ".py",
   "mimetype": "text/x-python",
   "name": "python",
   "nbconvert_exporter": "python",
   "pygments_lexer": "ipython3",
   "version": "3.13.1"
  }
 },
 "nbformat": 4,
 "nbformat_minor": 2
}
